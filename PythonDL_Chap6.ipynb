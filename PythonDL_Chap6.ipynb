{
 "cells": [
  {
   "cell_type": "markdown",
   "metadata": {},
   "source": [
    "# 第6章   深度学习用于文本和序列"
   ]
  },
  {
   "cell_type": "markdown",
   "metadata": {},
   "source": [
    "## 6.1   处理文本数据"
   ]
  },
  {
   "cell_type": "markdown",
   "metadata": {},
   "source": [
    "### 6.1.1   单词和字符的one-hot编码"
   ]
  },
  {
   "cell_type": "markdown",
   "metadata": {},
   "source": [
    "##### 6-3   用Keras实现单词级的one-hot编码"
   ]
  },
  {
   "cell_type": "code",
   "execution_count": 1,
   "metadata": {},
   "outputs": [],
   "source": [
    "from keras.preprocessing.text import Tokenizer"
   ]
  },
  {
   "cell_type": "code",
   "execution_count": 2,
   "metadata": {},
   "outputs": [],
   "source": [
    "samples = ['The cat sat on the mat.', 'The dog ate my homework.']"
   ]
  },
  {
   "cell_type": "code",
   "execution_count": 3,
   "metadata": {},
   "outputs": [],
   "source": [
    "tokenizer = Tokenizer(num_words = 100)   # 创建一个分词器，设置为只考虑前1000个最常见的单词\n",
    "tokenizer.fit_on_texts(samples)   # 构建单词索引"
   ]
  },
  {
   "cell_type": "code",
   "execution_count": 4,
   "metadata": {},
   "outputs": [
    {
     "data": {
      "text/plain": [
       "[[1, 2, 3, 4, 1, 5], [1, 6, 7, 8, 9]]"
      ]
     },
     "execution_count": 4,
     "metadata": {},
     "output_type": "execute_result"
    }
   ],
   "source": [
    "sequences = tokenizer.texts_to_sequences(samples)   # 将字符串转换为整数索引组成的列表\n",
    "sequences"
   ]
  },
  {
   "cell_type": "code",
   "execution_count": 5,
   "metadata": {},
   "outputs": [
    {
     "data": {
      "text/plain": [
       "array([[0., 1., 1., 1., 1., 1., 0., 0., 0., 0., 0., 0., 0., 0., 0., 0.,\n",
       "        0., 0., 0., 0., 0., 0., 0., 0., 0., 0., 0., 0., 0., 0., 0., 0.,\n",
       "        0., 0., 0., 0., 0., 0., 0., 0., 0., 0., 0., 0., 0., 0., 0., 0.,\n",
       "        0., 0., 0., 0., 0., 0., 0., 0., 0., 0., 0., 0., 0., 0., 0., 0.,\n",
       "        0., 0., 0., 0., 0., 0., 0., 0., 0., 0., 0., 0., 0., 0., 0., 0.,\n",
       "        0., 0., 0., 0., 0., 0., 0., 0., 0., 0., 0., 0., 0., 0., 0., 0.,\n",
       "        0., 0., 0., 0.],\n",
       "       [0., 1., 0., 0., 0., 0., 1., 1., 1., 1., 0., 0., 0., 0., 0., 0.,\n",
       "        0., 0., 0., 0., 0., 0., 0., 0., 0., 0., 0., 0., 0., 0., 0., 0.,\n",
       "        0., 0., 0., 0., 0., 0., 0., 0., 0., 0., 0., 0., 0., 0., 0., 0.,\n",
       "        0., 0., 0., 0., 0., 0., 0., 0., 0., 0., 0., 0., 0., 0., 0., 0.,\n",
       "        0., 0., 0., 0., 0., 0., 0., 0., 0., 0., 0., 0., 0., 0., 0., 0.,\n",
       "        0., 0., 0., 0., 0., 0., 0., 0., 0., 0., 0., 0., 0., 0., 0., 0.,\n",
       "        0., 0., 0., 0.]])"
      ]
     },
     "execution_count": 5,
     "metadata": {},
     "output_type": "execute_result"
    }
   ],
   "source": [
    "one_hot_results = tokenizer.texts_to_matrix(samples, mode = 'binary')   # 也可以直接得到one-hot二进制表示\n",
    "one_hot_results   # 0号为保留索引，不会被分配给任何单词"
   ]
  },
  {
   "cell_type": "code",
   "execution_count": 6,
   "metadata": {},
   "outputs": [
    {
     "data": {
      "text/plain": [
       "{'the': 1,\n",
       " 'cat': 2,\n",
       " 'sat': 3,\n",
       " 'on': 4,\n",
       " 'mat': 5,\n",
       " 'dog': 6,\n",
       " 'ate': 7,\n",
       " 'my': 8,\n",
       " 'homework': 9}"
      ]
     },
     "execution_count": 6,
     "metadata": {},
     "output_type": "execute_result"
    }
   ],
   "source": [
    "word_index = tokenizer.word_index\n",
    "word_index"
   ]
  },
  {
   "cell_type": "markdown",
   "metadata": {},
   "source": [
    "##### 6-4   使用散列技巧的单词级的one-hot编码"
   ]
  },
  {
   "cell_type": "code",
   "execution_count": 7,
   "metadata": {},
   "outputs": [],
   "source": [
    "dimensionality = 1000\n",
    "max_length = 10"
   ]
  },
  {
   "cell_type": "code",
   "execution_count": 8,
   "metadata": {},
   "outputs": [],
   "source": [
    "import numpy as np"
   ]
  },
  {
   "cell_type": "code",
   "execution_count": 9,
   "metadata": {},
   "outputs": [],
   "source": [
    "results = np.zeros((len(samples), max_length, dimensionality))\n",
    "for i, sample in enumerate(samples):\n",
    "    for j, word in list(enumerate(sample.split()))[:max_length]:\n",
    "        index = abs(hash(word)) % dimensionality\n",
    "        results[i, j, index] = 1."
   ]
  },
  {
   "cell_type": "code",
   "execution_count": 10,
   "metadata": {},
   "outputs": [
    {
     "data": {
      "text/plain": [
       "[(0, 'The cat sat on the mat.'), (1, 'The dog ate my homework.')]"
      ]
     },
     "execution_count": 10,
     "metadata": {},
     "output_type": "execute_result"
    }
   ],
   "source": [
    "list(enumerate(samples))"
   ]
  },
  {
   "cell_type": "markdown",
   "metadata": {},
   "source": [
    "### 6.1.2   使用词嵌入"
   ]
  },
  {
   "cell_type": "markdown",
   "metadata": {},
   "source": [
    "#### 1.使用`Embedding`层学习词嵌入"
   ]
  },
  {
   "cell_type": "markdown",
   "metadata": {},
   "source": [
    "##### 6-5   将一个`Embedding`层实例化"
   ]
  },
  {
   "cell_type": "code",
   "execution_count": 11,
   "metadata": {},
   "outputs": [],
   "source": [
    "from keras.layers import Embedding\n",
    "embedding_layer = Embedding(1000, 64)   # 两个参数：标记的个数（最大单词索引+1）和嵌入的维度"
   ]
  },
  {
   "cell_type": "markdown",
   "metadata": {},
   "source": [
    "##### 6-6   加载IMDB数据，准备用于`Embedding`层"
   ]
  },
  {
   "cell_type": "code",
   "execution_count": 12,
   "metadata": {},
   "outputs": [],
   "source": [
    "import warnings\n",
    "warnings.filterwarnings('ignore')"
   ]
  },
  {
   "cell_type": "code",
   "execution_count": 13,
   "metadata": {},
   "outputs": [],
   "source": [
    "from keras.datasets import imdb\n",
    "from keras import preprocessing   # 与书上有出入"
   ]
  },
  {
   "cell_type": "code",
   "execution_count": 14,
   "metadata": {},
   "outputs": [],
   "source": [
    "max_features = 10000   # 作为特征的单词个数\n",
    "maxlen = 20   # 在20个单词后截断文本\n",
    "(x_train, y_train), (x_test, y_test) = imdb.load_data(num_words = max_features)   # 将数据加载为整数列表\n",
    "x_train = preprocessing.sequence.pad_sequences(x_train, maxlen = maxlen)\n",
    "x_test = preprocessing.sequence.pad_sequences(x_test, maxlen = maxlen)   \n",
    "# 将整数列表转换成形状为(samples,maxlen)的二维整数张量"
   ]
  },
  {
   "cell_type": "markdown",
   "metadata": {},
   "source": [
    "##### 6-7   在IMDB数据上使用`Embedding`层和分类器"
   ]
  },
  {
   "cell_type": "code",
   "execution_count": 15,
   "metadata": {},
   "outputs": [],
   "source": [
    "from keras.models import Sequential\n",
    "from keras.layers import Flatten, Dense, Embedding"
   ]
  },
  {
   "cell_type": "code",
   "execution_count": 16,
   "metadata": {},
   "outputs": [
    {
     "name": "stdout",
     "output_type": "stream",
     "text": [
      "Model: \"sequential\"\n",
      "_________________________________________________________________\n",
      "Layer (type)                 Output Shape              Param #   \n",
      "=================================================================\n",
      "embedding_1 (Embedding)      (None, 20, 8)             80000     \n",
      "_________________________________________________________________\n",
      "flatten (Flatten)            (None, 160)               0         \n",
      "_________________________________________________________________\n",
      "dense (Dense)                (None, 1)                 161       \n",
      "=================================================================\n",
      "Total params: 80,161\n",
      "Trainable params: 80,161\n",
      "Non-trainable params: 0\n",
      "_________________________________________________________________\n"
     ]
    }
   ],
   "source": [
    "model = Sequential()\n",
    "model.add(Embedding(10000, 8, input_length = maxlen))   # 指定Embedding层的最大输出长度\n",
    "# Embedding层激活形状：(samples,maxlen,8)\n",
    "model.add(Flatten())   # 将三维的嵌入张量展平成形状为(samples,maxlen*8)的二维张量\n",
    "model.add(Dense(1, activation = 'sigmoid'))   # 添加分类器\n",
    "model.compile(optimizer = 'rmsprop', loss = 'binary_crossentropy', metrics = ['acc'])\n",
    "model.summary()"
   ]
  },
  {
   "cell_type": "code",
   "execution_count": 17,
   "metadata": {},
   "outputs": [
    {
     "name": "stdout",
     "output_type": "stream",
     "text": [
      "Epoch 1/10\n",
      "625/625 [==============================] - 2s 2ms/step - loss: 0.6871 - acc: 0.5577 - val_loss: 0.6280 - val_acc: 0.6990\n",
      "Epoch 2/10\n",
      "625/625 [==============================] - 1s 999us/step - loss: 0.5792 - acc: 0.7367 - val_loss: 0.5302 - val_acc: 0.7354\n",
      "Epoch 3/10\n",
      "625/625 [==============================] - 1s 1ms/step - loss: 0.4755 - acc: 0.7813 - val_loss: 0.5017 - val_acc: 0.7480\n",
      "Epoch 4/10\n",
      "625/625 [==============================] - 1s 1ms/step - loss: 0.4232 - acc: 0.8097 - val_loss: 0.4955 - val_acc: 0.7560\n",
      "Epoch 5/10\n",
      "625/625 [==============================] - 1s 1ms/step - loss: 0.3922 - acc: 0.8253 - val_loss: 0.4942 - val_acc: 0.7564\n",
      "Epoch 6/10\n",
      "625/625 [==============================] - 1s 1ms/step - loss: 0.3699 - acc: 0.8363 - val_loss: 0.4972 - val_acc: 0.7580\n",
      "Epoch 7/10\n",
      "625/625 [==============================] - 1s 1ms/step - loss: 0.3452 - acc: 0.8553 - val_loss: 0.5018 - val_acc: 0.7554\n",
      "Epoch 8/10\n",
      "625/625 [==============================] - 1s 986us/step - loss: 0.3246 - acc: 0.8627 - val_loss: 0.5082 - val_acc: 0.7534\n",
      "Epoch 9/10\n",
      "625/625 [==============================] - 1s 992us/step - loss: 0.3183 - acc: 0.8656 - val_loss: 0.5162 - val_acc: 0.7488\n",
      "Epoch 10/10\n",
      "625/625 [==============================] - 1s 993us/step - loss: 0.2889 - acc: 0.8827 - val_loss: 0.5265 - val_acc: 0.7486\n"
     ]
    }
   ],
   "source": [
    "history = model.fit(x_train, y_train, epochs = 10, batch_size = 32, validation_split = 0.2)"
   ]
  },
  {
   "cell_type": "markdown",
   "metadata": {},
   "source": [
    "#### 2.使用预训练的词嵌入"
   ]
  },
  {
   "cell_type": "markdown",
   "metadata": {},
   "source": [
    ">**step1:** 下载IMDB数据的原始文本"
   ]
  },
  {
   "cell_type": "markdown",
   "metadata": {},
   "source": [
    "##### 6-8   处理IMDB原始数据的标签"
   ]
  },
  {
   "cell_type": "code",
   "execution_count": 18,
   "metadata": {},
   "outputs": [],
   "source": [
    "import os"
   ]
  },
  {
   "cell_type": "code",
   "execution_count": 19,
   "metadata": {},
   "outputs": [],
   "source": [
    "imdb_dir = '/Users/duoduo/Desktop/Data/Machine Learning/Deep Learning with Python/aclImdb'\n",
    "train_dir = os.path.join(imdb_dir, 'train')"
   ]
  },
  {
   "cell_type": "code",
   "execution_count": 20,
   "metadata": {},
   "outputs": [],
   "source": [
    "labels = []\n",
    "texts = []\n",
    "for label_type in ['neg', 'pos']:\n",
    "    dir_name = os.path.join(train_dir, label_type)\n",
    "    for fname in os.listdir(dir_name):\n",
    "        if fname[-4:] == '.txt':\n",
    "            f = open(os.path.join(dir_name, fname))\n",
    "            texts.append(f.read())\n",
    "            f.close()\n",
    "            if label_type == 'neg':\n",
    "                labels.append(0)\n",
    "            else:\n",
    "                labels.append(1)"
   ]
  },
  {
   "cell_type": "markdown",
   "metadata": {},
   "source": [
    ">**step2:** 对数据进行分词"
   ]
  },
  {
   "cell_type": "markdown",
   "metadata": {},
   "source": [
    "##### 6-9   对IMDB原始数据的文本进行分词"
   ]
  },
  {
   "cell_type": "code",
   "execution_count": 21,
   "metadata": {},
   "outputs": [],
   "source": [
    "maxlen = 100\n",
    "training_samples = 200\n",
    "validation_samples = 10000\n",
    "max_words = 10000"
   ]
  },
  {
   "cell_type": "code",
   "execution_count": 22,
   "metadata": {},
   "outputs": [],
   "source": [
    "tokenizer = Tokenizer(num_words = max_words)\n",
    "tokenizer.fit_on_texts(texts)\n",
    "sequences = tokenizer.texts_to_sequences(texts)"
   ]
  },
  {
   "cell_type": "code",
   "execution_count": 23,
   "metadata": {},
   "outputs": [
    {
     "data": {
      "text/plain": [
       "88582"
      ]
     },
     "execution_count": 23,
     "metadata": {},
     "output_type": "execute_result"
    }
   ],
   "source": [
    "word_index = tokenizer.word_index\n",
    "len(word_index)"
   ]
  },
  {
   "cell_type": "code",
   "execution_count": 24,
   "metadata": {},
   "outputs": [
    {
     "name": "stdout",
     "output_type": "stream",
     "text": [
      "Shape of data tensor:  (25000, 100)\n",
      "Shape of label tensor:  (25000,)\n"
     ]
    }
   ],
   "source": [
    "data = preprocessing.sequence.pad_sequences(sequences, maxlen = maxlen)\n",
    "labels = np.asarray(labels)\n",
    "print('Shape of data tensor: ', data.shape)\n",
    "print('Shape of label tensor: ', labels.shape)"
   ]
  },
  {
   "cell_type": "code",
   "execution_count": 25,
   "metadata": {},
   "outputs": [],
   "source": [
    "indices = np.arange(data.shape[0])\n",
    "np.random.shuffle(indices)\n",
    "data = data[indices]\n",
    "labels = labels[indices]"
   ]
  },
  {
   "cell_type": "code",
   "execution_count": 26,
   "metadata": {},
   "outputs": [],
   "source": [
    "x_train = data[:training_samples]\n",
    "y_train = labels[:training_samples]\n",
    "x_val = data[training_samples:training_samples+validation_samples]\n",
    "y_val = labels[training_samples:training_samples+validation_samples]"
   ]
  },
  {
   "cell_type": "markdown",
   "metadata": {},
   "source": [
    ">**step3:** 下载GloVe词嵌入"
   ]
  },
  {
   "cell_type": "markdown",
   "metadata": {},
   "source": [
    ">**step4:** 对嵌入进行预处理"
   ]
  },
  {
   "cell_type": "markdown",
   "metadata": {},
   "source": [
    "##### 6-10   解析GloVe词嵌入文件"
   ]
  },
  {
   "cell_type": "code",
   "execution_count": 27,
   "metadata": {},
   "outputs": [],
   "source": [
    "glove_dir = '/Users/duoduo/Desktop/Data/Machine Learning/Deep Learning with Python/glove.6B'"
   ]
  },
  {
   "cell_type": "code",
   "execution_count": 28,
   "metadata": {},
   "outputs": [
    {
     "data": {
      "text/plain": [
       "400000"
      ]
     },
     "execution_count": 28,
     "metadata": {},
     "output_type": "execute_result"
    }
   ],
   "source": [
    "embedding_index = {}\n",
    "f = open(os.path.join(glove_dir, 'glove.6B.100d.txt'))\n",
    "for line in f:\n",
    "    values = line.split()\n",
    "    word = values[0]\n",
    "    coefs = np.asarray(values[1:], dtype = 'float32')\n",
    "    embedding_index[word] = coefs\n",
    "f.close()\n",
    "len(embedding_index)"
   ]
  },
  {
   "cell_type": "markdown",
   "metadata": {},
   "source": [
    "##### 6-11   准备GloVe词嵌入矩阵"
   ]
  },
  {
   "cell_type": "code",
   "execution_count": 29,
   "metadata": {},
   "outputs": [],
   "source": [
    "embedding_dim = 100\n",
    "embedding_matrix = np.zeros((max_words, embedding_dim))\n",
    "for word, i in word_index.items():\n",
    "    if i < max_words:\n",
    "        embedding_vector = embedding_index.get(word)\n",
    "        if embedding_vector is not None:\n",
    "            embedding_matrix[i] = embedding_vector\n",
    "# 嵌入索引（embedding_index）中找不到的词，其嵌入向量全为0"
   ]
  },
  {
   "cell_type": "markdown",
   "metadata": {},
   "source": [
    ">**step5:** 定义模型"
   ]
  },
  {
   "cell_type": "markdown",
   "metadata": {},
   "source": [
    "##### 6-12   模型定义"
   ]
  },
  {
   "cell_type": "code",
   "execution_count": 30,
   "metadata": {},
   "outputs": [
    {
     "name": "stdout",
     "output_type": "stream",
     "text": [
      "Model: \"sequential_1\"\n",
      "_________________________________________________________________\n",
      "Layer (type)                 Output Shape              Param #   \n",
      "=================================================================\n",
      "embedding_2 (Embedding)      (None, 100, 100)          1000000   \n",
      "_________________________________________________________________\n",
      "flatten_1 (Flatten)          (None, 10000)             0         \n",
      "_________________________________________________________________\n",
      "dense_1 (Dense)              (None, 32)                320032    \n",
      "_________________________________________________________________\n",
      "dense_2 (Dense)              (None, 1)                 33        \n",
      "=================================================================\n",
      "Total params: 1,320,065\n",
      "Trainable params: 1,320,065\n",
      "Non-trainable params: 0\n",
      "_________________________________________________________________\n"
     ]
    }
   ],
   "source": [
    "model = Sequential()\n",
    "model.add(Embedding(max_words, embedding_dim, input_length = maxlen))\n",
    "model.add(Flatten())\n",
    "model.add(Dense(32, activation = 'relu'))\n",
    "model.add(Dense(1, activation = 'sigmoid'))\n",
    "model.summary()"
   ]
  },
  {
   "cell_type": "markdown",
   "metadata": {},
   "source": [
    ">**step6:** 在模型中加载GloVe嵌入"
   ]
  },
  {
   "cell_type": "markdown",
   "metadata": {},
   "source": [
    "##### 6-13   将预训练的词嵌入加载到`Embedding`层中"
   ]
  },
  {
   "cell_type": "code",
   "execution_count": 31,
   "metadata": {},
   "outputs": [],
   "source": [
    "model.layers[0].set_weights([embedding_matrix])\n",
    "model.layers[0].trainable = False   # 冻结Embedding层，使其不被更新或破坏"
   ]
  },
  {
   "cell_type": "markdown",
   "metadata": {},
   "source": [
    ">**step7:** 训练模型与评估模型"
   ]
  },
  {
   "cell_type": "markdown",
   "metadata": {},
   "source": [
    "##### 6-14   训练与评估"
   ]
  },
  {
   "cell_type": "code",
   "execution_count": 32,
   "metadata": {},
   "outputs": [
    {
     "name": "stdout",
     "output_type": "stream",
     "text": [
      "Epoch 1/10\n",
      "7/7 [==============================] - 1s 119ms/step - loss: 1.8699 - acc: 0.5062 - val_loss: 0.6957 - val_acc: 0.5180\n",
      "Epoch 2/10\n",
      "7/7 [==============================] - 0s 71ms/step - loss: 0.5546 - acc: 0.7073 - val_loss: 1.0961 - val_acc: 0.5051\n",
      "Epoch 3/10\n",
      "7/7 [==============================] - 0s 60ms/step - loss: 0.6486 - acc: 0.7072 - val_loss: 0.7514 - val_acc: 0.5146\n",
      "Epoch 4/10\n",
      "7/7 [==============================] - 0s 62ms/step - loss: 0.5008 - acc: 0.7282 - val_loss: 0.6888 - val_acc: 0.5528\n",
      "Epoch 5/10\n",
      "7/7 [==============================] - 0s 58ms/step - loss: 0.2554 - acc: 0.9698 - val_loss: 1.0685 - val_acc: 0.5054\n",
      "Epoch 6/10\n",
      "7/7 [==============================] - 0s 57ms/step - loss: 0.4544 - acc: 0.7251 - val_loss: 0.8232 - val_acc: 0.5359\n",
      "Epoch 7/10\n",
      "7/7 [==============================] - 0s 72ms/step - loss: 0.2392 - acc: 0.8887 - val_loss: 0.7760 - val_acc: 0.5424\n",
      "Epoch 8/10\n",
      "7/7 [==============================] - 0s 70ms/step - loss: 0.0767 - acc: 1.0000 - val_loss: 0.9073 - val_acc: 0.5303\n",
      "Epoch 9/10\n",
      "7/7 [==============================] - 1s 86ms/step - loss: 0.0655 - acc: 1.0000 - val_loss: 0.7611 - val_acc: 0.5709\n",
      "Epoch 10/10\n",
      "7/7 [==============================] - 1s 92ms/step - loss: 0.1503 - acc: 0.9334 - val_loss: 1.2631 - val_acc: 0.5091\n"
     ]
    }
   ],
   "source": [
    "model.compile(optimizer = 'rmsprop', loss = 'binary_crossentropy', metrics = ['acc'])\n",
    "history = model.fit(x_train, y_train, epochs = 10, batch_size = 32, validation_data = (x_val, y_val))\n",
    "model.save_weights('/Users/duoduo/Desktop/Data/Machine Learning/Deep Learning with Python/pre_trained_glove_model.h5')"
   ]
  },
  {
   "cell_type": "markdown",
   "metadata": {},
   "source": [
    "##### 6-15   绘制结果"
   ]
  },
  {
   "cell_type": "code",
   "execution_count": 33,
   "metadata": {},
   "outputs": [],
   "source": [
    "import matplotlib.pyplot as plt"
   ]
  },
  {
   "cell_type": "code",
   "execution_count": 34,
   "metadata": {},
   "outputs": [],
   "source": [
    "acc = history.history['acc']\n",
    "val_acc = history.history['val_acc']\n",
    "loss = history.history['loss']\n",
    "val_loss = history.history['val_loss']\n",
    "epochs = range(1, len(acc)+1)"
   ]
  },
  {
   "cell_type": "code",
   "execution_count": 35,
   "metadata": {},
   "outputs": [
    {
     "data": {
      "image/png": "[encoded data removed]",
      "text/plain": [
       "<Figure size 432x288 with 1 Axes>"
      ]
     },
     "metadata": {
      "needs_background": "light"
     },
     "output_type": "display_data"
    },
    {
     "data": {
      "image/png": "[encoded data removed]",
      "text/plain": [
       "<Figure size 432x288 with 1 Axes>"
      ]
     },
     "metadata": {
      "needs_background": "light"
     },
     "output_type": "display_data"
    }
   ],
   "source": [
    "plt.plot(epochs, acc, 'bo', label = 'Training acc')\n",
    "plt.plot(epochs, val_acc, 'b', label = 'Validation acc')\n",
    "plt.title('Training and validation accuracy')\n",
    "plt.legend()\n",
    "plt.figure()\n",
    "plt.plot(epochs, loss, 'bo', label = 'Training loss')\n",
    "plt.plot(epochs, val_loss, 'b', label = 'Validation loss')\n",
    "plt.title('Training and validation loss')\n",
    "plt.legend()\n",
    "plt.show()"
   ]
  },
  {
   "cell_type": "markdown",
   "metadata": {},
   "source": [
    "##### 6-17   对测试集数据进行分词"
   ]
  },
  {
   "cell_type": "code",
   "execution_count": 36,
   "metadata": {},
   "outputs": [],
   "source": [
    "test_dir = os.path.join(imdb_dir, 'test')\n",
    "labels = []\n",
    "texts = []"
   ]
  },
  {
   "cell_type": "code",
   "execution_count": 37,
   "metadata": {},
   "outputs": [],
   "source": [
    "for label_type in ['neg', 'pos']:\n",
    "    dir_name = os.path.join(test_dir, label_type)\n",
    "    for fname in sorted(os.listdir(dir_name)):\n",
    "        if fname[-4:] == '.txt':\n",
    "            f = open(os.path.join(dir_name, fname))\n",
    "            texts.append(f.read())\n",
    "            f.close()\n",
    "            if label_type == 'neg':\n",
    "                labels.append(0)\n",
    "            else:\n",
    "                labels.append(1)"
   ]
  },
  {
   "cell_type": "code",
   "execution_count": 38,
   "metadata": {},
   "outputs": [],
   "source": [
    "sequences = tokenizer.texts_to_sequences(texts)\n",
    "x_test = preprocessing.sequence.pad_sequences(sequences, maxlen = maxlen)\n",
    "y_test = np.asarray(labels)"
   ]
  },
  {
   "cell_type": "markdown",
   "metadata": {},
   "source": [
    "##### 6-18   在测试集上评估模型"
   ]
  },
  {
   "cell_type": "code",
   "execution_count": 39,
   "metadata": {},
   "outputs": [
    {
     "name": "stdout",
     "output_type": "stream",
     "text": [
      "782/782 [==============================] - 1s 1ms/step - loss: 1.2820 - acc: 0.5033\n"
     ]
    },
    {
     "data": {
      "text/plain": [
       "[1.2819582223892212, 0.503279983997345]"
      ]
     },
     "execution_count": 39,
     "metadata": {},
     "output_type": "execute_result"
    }
   ],
   "source": [
    "model.load_weights('/Users/duoduo/Desktop/Data/Machine Learning/Deep Learning with Python/pre_trained_glove_model.h5')\n",
    "model.evaluate(x_test, y_test)"
   ]
  },
  {
   "cell_type": "markdown",
   "metadata": {},
   "source": [
    "## 6.2   理解循环神经网络"
   ]
  },
  {
   "cell_type": "markdown",
   "metadata": {},
   "source": [
    "### 6.2.1   Keras中的循环层"
   ]
  },
  {
   "cell_type": "markdown",
   "metadata": {},
   "source": [
    "##### 6-22   准备IMDB数据 "
   ]
  },
  {
   "cell_type": "code",
   "execution_count": 40,
   "metadata": {},
   "outputs": [],
   "source": [
    "max_features = 10000\n",
    "maxlen = 500\n",
    "batch_size = 32"
   ]
  },
  {
   "cell_type": "code",
   "execution_count": 41,
   "metadata": {},
   "outputs": [
    {
     "name": "stdout",
     "output_type": "stream",
     "text": [
      "25000 train sequences\n",
      "25000 test sequences\n"
     ]
    }
   ],
   "source": [
    "(input_train, y_train), (input_test, y_test) = imdb.load_data(num_words = max_features)\n",
    "print(len(input_train), 'train sequences')\n",
    "print(len(input_test), 'test sequences')"
   ]
  },
  {
   "cell_type": "code",
   "execution_count": 42,
   "metadata": {},
   "outputs": [
    {
     "name": "stdout",
     "output_type": "stream",
     "text": [
      "input_train shape:  (25000, 500)\n",
      "input_test shape:  (25000, 500)\n"
     ]
    }
   ],
   "source": [
    "input_train = preprocessing.sequence.pad_sequences(input_train, maxlen = maxlen)\n",
    "input_test = preprocessing.sequence.pad_sequences(input_test, maxlen = maxlen)\n",
    "print('input_train shape: ', input_train.shape)\n",
    "print('input_test shape: ', input_test.shape)"
   ]
  },
  {
   "cell_type": "markdown",
   "metadata": {},
   "source": [
    "##### 6-23   用`Embedding`层和`SimpleRNN`层来训练模型"
   ]
  },
  {
   "cell_type": "code",
   "execution_count": 43,
   "metadata": {},
   "outputs": [
    {
     "name": "stdout",
     "output_type": "stream",
     "text": [
      "Epoch 1/10\n",
      "157/157 [==============================] - 18s 108ms/step - loss: 0.6765 - acc: 0.5626 - val_loss: 0.4930 - val_acc: 0.7704\n",
      "Epoch 2/10\n",
      "157/157 [==============================] - 17s 110ms/step - loss: 0.4184 - acc: 0.8183 - val_loss: 0.3613 - val_acc: 0.8472\n",
      "Epoch 3/10\n",
      "157/157 [==============================] - 17s 109ms/step - loss: 0.2936 - acc: 0.8806 - val_loss: 0.3379 - val_acc: 0.8630\n",
      "Epoch 4/10\n",
      "157/157 [==============================] - 16s 104ms/step - loss: 0.2347 - acc: 0.9102 - val_loss: 0.3766 - val_acc: 0.8358\n",
      "Epoch 5/10\n",
      "157/157 [==============================] - 16s 103ms/step - loss: 0.1727 - acc: 0.9354 - val_loss: 0.3777 - val_acc: 0.8566\n",
      "Epoch 6/10\n",
      "157/157 [==============================] - 17s 105ms/step - loss: 0.1381 - acc: 0.9510 - val_loss: 0.4498 - val_acc: 0.8286\n",
      "Epoch 7/10\n",
      "157/157 [==============================] - 16s 104ms/step - loss: 0.1089 - acc: 0.9630 - val_loss: 0.5738 - val_acc: 0.7542\n",
      "Epoch 8/10\n",
      "157/157 [==============================] - 16s 103ms/step - loss: 0.0790 - acc: 0.9748 - val_loss: 0.4553 - val_acc: 0.8574\n",
      "Epoch 9/10\n",
      "157/157 [==============================] - 17s 105ms/step - loss: 0.0489 - acc: 0.9851 - val_loss: 0.4886 - val_acc: 0.8566\n",
      "Epoch 10/10\n",
      "157/157 [==============================] - 16s 102ms/step - loss: 0.0484 - acc: 0.9841 - val_loss: 0.6922 - val_acc: 0.7840\n"
     ]
    }
   ],
   "source": [
    "from keras.layers import SimpleRNN\n",
    "model = Sequential()\n",
    "model.add(Embedding(max_features, 32))\n",
    "model.add(SimpleRNN(32))\n",
    "model.add(Dense(1, activation = 'sigmoid'))\n",
    "model.compile(optimizer = 'rmsprop', loss = 'binary_crossentropy', metrics = ['acc'])\n",
    "history = model.fit(input_train, y_train, epochs = 10, batch_size = 128, validation_split = 0.2)"
   ]
  },
  {
   "cell_type": "markdown",
   "metadata": {},
   "source": [
    "##### 6-24   绘制结果"
   ]
  },
  {
   "cell_type": "code",
   "execution_count": 44,
   "metadata": {},
   "outputs": [],
   "source": [
    "acc = history.history['acc']\n",
    "val_acc = history.history['val_acc']\n",
    "loss = history.history['loss']\n",
    "val_loss = history.history['val_loss']\n",
    "epochs = range(1, len(acc)+1)"
   ]
  },
  {
   "cell_type": "code",
   "execution_count": 45,
   "metadata": {},
   "outputs": [
    {
     "data": {
      "image/png": "[encoded data removed]",
      "text/plain": [
       "<Figure size 432x288 with 1 Axes>"
      ]
     },
     "metadata": {
      "needs_background": "light"
     },
     "output_type": "display_data"
    },
    {
     "data": {
      "image/png": "[encoded data removed]",
      "text/plain": [
       "<Figure size 432x288 with 1 Axes>"
      ]
     },
     "metadata": {
      "needs_background": "light"
     },
     "output_type": "display_data"
    }
   ],
   "source": [
    "plt.plot(epochs, acc, 'bo', label = 'Training acc')\n",
    "plt.plot(epochs, val_acc, 'b', label = 'Validation acc')\n",
    "plt.title('Training and validation accuracy')\n",
    "plt.legend()\n",
    "plt.figure()\n",
    "plt.plot(epochs, loss, 'bo', label = 'Training loss')\n",
    "plt.plot(epochs, val_loss, 'b', label = 'Validation loss')\n",
    "plt.title('Training and validation loss')\n",
    "plt.legend()\n",
    "plt.show()"
   ]
  },
  {
   "cell_type": "markdown",
   "metadata": {},
   "source": [
    "### 6.2.3   Keras中一个LSTM的具体例子"
   ]
  },
  {
   "cell_type": "markdown",
   "metadata": {},
   "source": [
    "##### 6-27   使用Keras中的`LSTM`层"
   ]
  },
  {
   "cell_type": "code",
   "execution_count": 46,
   "metadata": {},
   "outputs": [],
   "source": [
    "from keras.layers import LSTM"
   ]
  },
  {
   "cell_type": "code",
   "execution_count": 47,
   "metadata": {},
   "outputs": [
    {
     "name": "stdout",
     "output_type": "stream",
     "text": [
      "Epoch 1/10\n",
      "157/157 [==============================] - 35s 213ms/step - loss: 0.6177 - acc: 0.6675 - val_loss: 0.4004 - val_acc: 0.8432\n",
      "Epoch 2/10\n",
      "157/157 [==============================] - 31s 195ms/step - loss: 0.3326 - acc: 0.8701 - val_loss: 0.3728 - val_acc: 0.8430\n",
      "Epoch 3/10\n",
      "157/157 [==============================] - 31s 198ms/step - loss: 0.2512 - acc: 0.9047 - val_loss: 0.3562 - val_acc: 0.8412\n",
      "Epoch 4/10\n",
      "157/157 [==============================] - 33s 212ms/step - loss: 0.2049 - acc: 0.9242 - val_loss: 0.3033 - val_acc: 0.8696\n",
      "Epoch 5/10\n",
      "157/157 [==============================] - 32s 204ms/step - loss: 0.1694 - acc: 0.9390 - val_loss: 0.2864 - val_acc: 0.8812\n",
      "Epoch 6/10\n",
      "157/157 [==============================] - 35s 224ms/step - loss: 0.1563 - acc: 0.9461 - val_loss: 0.3170 - val_acc: 0.8738\n",
      "Epoch 7/10\n",
      "157/157 [==============================] - 32s 206ms/step - loss: 0.1308 - acc: 0.9568 - val_loss: 0.3057 - val_acc: 0.8826\n",
      "Epoch 8/10\n",
      "157/157 [==============================] - 32s 204ms/step - loss: 0.1203 - acc: 0.9608 - val_loss: 0.3568 - val_acc: 0.8702\n",
      "Epoch 9/10\n",
      "157/157 [==============================] - 32s 207ms/step - loss: 0.1113 - acc: 0.9617 - val_loss: 0.3269 - val_acc: 0.8844\n",
      "Epoch 10/10\n",
      "157/157 [==============================] - 32s 201ms/step - loss: 0.1063 - acc: 0.9644 - val_loss: 0.4643 - val_acc: 0.8320\n"
     ]
    }
   ],
   "source": [
    "model = Sequential()\n",
    "model.add(Embedding(max_features, 32))\n",
    "model.add(LSTM(32))\n",
    "model.add(Dense(1, activation = 'sigmoid'))\n",
    "model.compile(optimizer = 'rmsprop', loss = 'binary_crossentropy', metrics = ['acc'])\n",
    "history = model.fit(input_train, y_train, epochs = 10, batch_size = 128, validation_split = 0.2)"
   ]
  },
  {
   "cell_type": "code",
   "execution_count": 48,
   "metadata": {},
   "outputs": [],
   "source": [
    "acc = history.history['acc']\n",
    "val_acc = history.history['val_acc']\n",
    "loss = history.history['loss']\n",
    "val_loss = history.history['val_loss']\n",
    "epochs = range(1, len(acc)+1)"
   ]
  },
  {
   "cell_type": "code",
   "execution_count": 49,
   "metadata": {},
   "outputs": [
    {
     "data": {
      "image/png": "[encoded data removed]",
      "text/plain": [
       "<Figure size 432x288 with 1 Axes>"
      ]
     },
     "metadata": {
      "needs_background": "light"
     },
     "output_type": "display_data"
    },
    {
     "data": {
      "image/png": "[encoded data removed]",
      "text/plain": [
       "<Figure size 432x288 with 1 Axes>"
      ]
     },
     "metadata": {
      "needs_background": "light"
     },
     "output_type": "display_data"
    }
   ],
   "source": [
    "plt.plot(epochs, acc, 'bo', label = 'Training acc')\n",
    "plt.plot(epochs, val_acc, 'b', label = 'Validation acc')\n",
    "plt.title('Training and validation accuracy')\n",
    "plt.legend()\n",
    "plt.figure()\n",
    "plt.plot(epochs, loss, 'bo', label = 'Training loss')\n",
    "plt.plot(epochs, val_loss, 'b', label = 'Validation loss')\n",
    "plt.title('Training and validation loss')\n",
    "plt.legend()\n",
    "plt.show()"
   ]
  },
  {
   "cell_type": "markdown",
   "metadata": {},
   "source": [
    "## 6.3   循环神经网络的高级用法"
   ]
  },
  {
   "cell_type": "markdown",
   "metadata": {},
   "source": [
    "### 6.3.1   温度预测问题"
   ]
  },
  {
   "cell_type": "markdown",
   "metadata": {},
   "source": [
    "##### 6-28   观察耶拿天气数据集的数据"
   ]
  },
  {
   "cell_type": "code",
   "execution_count": 50,
   "metadata": {},
   "outputs": [],
   "source": [
    "fname = '/Users/duoduo/Desktop/Data/Machine Learning/Deep Learning with Python/jena_climate_2009_2016.csv'\n",
    "f = open(fname)\n",
    "data = f.read()\n",
    "f.close()"
   ]
  },
  {
   "cell_type": "code",
   "execution_count": 51,
   "metadata": {},
   "outputs": [
    {
     "name": "stdout",
     "output_type": "stream",
     "text": [
      "['\"Date Time\"', '\"p (mbar)\"', '\"T (degC)\"', '\"Tpot (K)\"', '\"Tdew (degC)\"', '\"rh (%)\"', '\"VPmax (mbar)\"', '\"VPact (mbar)\"', '\"VPdef (mbar)\"', '\"sh (g/kg)\"', '\"H2OC (mmol/mol)\"', '\"rho (g/m**3)\"', '\"wv (m/s)\"', '\"max. wv (m/s)\"', '\"wd (deg)\"']\n",
      "420451\n"
     ]
    }
   ],
   "source": [
    "lines = data.split('\\n')\n",
    "header = lines[0].split(',')\n",
    "lines = lines[1:]\n",
    "print(header)\n",
    "print(len(lines))"
   ]
  },
  {
   "cell_type": "markdown",
   "metadata": {},
   "source": [
    "##### 6-29   解析数据"
   ]
  },
  {
   "cell_type": "code",
   "execution_count": 52,
   "metadata": {},
   "outputs": [],
   "source": [
    "float_data = np.zeros((len(lines), len(header)-1))\n",
    "for i, line in enumerate(lines):\n",
    "    values = [float(x) for x in line.split(',')[1:]]\n",
    "    float_data[i,:] = values "
   ]
  },
  {
   "cell_type": "markdown",
   "metadata": {},
   "source": [
    "##### 6-30   绘制温度时间序列"
   ]
  },
  {
   "cell_type": "code",
   "execution_count": 53,
   "metadata": {},
   "outputs": [
    {
     "data": {
      "text/plain": [
       "[<matplotlib.lines.Line2D at 0x7f9006be7910>]"
      ]
     },
     "execution_count": 53,
     "metadata": {},
     "output_type": "execute_result"
    },
    {
     "data": {
      "image/png": "[encoded data removed]",
      "text/plain": [
       "<Figure size 864x360 with 1 Axes>"
      ]
     },
     "metadata": {
      "needs_background": "light"
     },
     "output_type": "display_data"
    }
   ],
   "source": [
    "temp = float_data[:,1]\n",
    "plt.figure(figsize = (12,5))\n",
    "plt.plot(range(len(temp)), temp)"
   ]
  },
  {
   "cell_type": "markdown",
   "metadata": {},
   "source": [
    "##### 6-31   绘制前10天的温度时间序列"
   ]
  },
  {
   "cell_type": "code",
   "execution_count": 54,
   "metadata": {},
   "outputs": [
    {
     "data": {
      "text/plain": [
       "[<matplotlib.lines.Line2D at 0x7f8fbacbcdd0>]"
      ]
     },
     "execution_count": 54,
     "metadata": {},
     "output_type": "execute_result"
    },
    {
     "data": {
      "image/png": "[encoded data removed]",
      "text/plain": [
       "<Figure size 864x360 with 1 Axes>"
      ]
     },
     "metadata": {
      "needs_background": "light"
     },
     "output_type": "display_data"
    }
   ],
   "source": [
    "plt.figure(figsize = (12,5))\n",
    "plt.plot(range(1440), temp[:1440])"
   ]
  },
  {
   "cell_type": "markdown",
   "metadata": {},
   "source": [
    "##### 6-32   数据标准化"
   ]
  },
  {
   "cell_type": "code",
   "execution_count": 55,
   "metadata": {},
   "outputs": [],
   "source": [
    "mean = float_data[:200000].mean(axis = 0)   # 使用前200000个时间步作为训练集\n",
    "float_data -= mean\n",
    "std = float_data[:200000].std(axis = 0)\n",
    "float_data /= std"
   ]
  },
  {
   "cell_type": "markdown",
   "metadata": {},
   "source": [
    "##### 6-33   生成时间序列样本及其目标的生成器"
   ]
  },
  {
   "cell_type": "code",
   "execution_count": 56,
   "metadata": {},
   "outputs": [],
   "source": [
    "def generator(data, lookback, delay, min_index, max_index, shuffle = False, batch_size = 128, step = 6):\n",
    "    if max_index is None:\n",
    "        max_index = len(data) - delay - 1\n",
    "    i = min_index + lookback\n",
    "    while 1:\n",
    "        if shuffle:\n",
    "            rows = np.random.randint(min_index + lookback, max_index, size = batch_size)\n",
    "        else:\n",
    "            if i + batch_size >= max_index:\n",
    "                i = min_index + lookback\n",
    "            rows = np.arange(i, min(i+batch_size, max_index))\n",
    "            i += len(rows)\n",
    "        samples = np.zeros((len(rows), lookback//step, data.shape[-1]))\n",
    "        targets = np.zeros((len(rows),))\n",
    "        for j, row in enumerate(rows):\n",
    "            indices = range(rows[j]-lookback, rows[j], step)\n",
    "            samples[j] = data[indices]\n",
    "            targets[j] = data[rows[j]+delay][1]\n",
    "        yield samples, targets"
   ]
  },
  {
   "cell_type": "markdown",
   "metadata": {},
   "source": [
    "##### 6-34   准备训练生成器、验证生成器和测试生成器"
   ]
  },
  {
   "cell_type": "code",
   "execution_count": 57,
   "metadata": {},
   "outputs": [],
   "source": [
    "lookback = 1440\n",
    "step = 6\n",
    "delay = 144\n",
    "batch_size = 128"
   ]
  },
  {
   "cell_type": "code",
   "execution_count": 58,
   "metadata": {},
   "outputs": [],
   "source": [
    "train_gen = generator(float_data, lookback = lookback, delay = delay, min_index = 0, max_index = 200000, \n",
    "                      shuffle = True, step = step, batch_size = batch_size)\n",
    "val_gen = generator(float_data, lookback = lookback, delay = delay, min_index = 200001, max_index = 300000, \n",
    "                      step = step, batch_size = batch_size)\n",
    "test_gen = generator(float_data, lookback = lookback, delay = delay, min_index = 300001, max_index = None, \n",
    "                      step = step, batch_size = batch_size)"
   ]
  },
  {
   "cell_type": "code",
   "execution_count": 59,
   "metadata": {},
   "outputs": [
    {
     "name": "stdout",
     "output_type": "stream",
     "text": [
      "769\n",
      "929\n"
     ]
    }
   ],
   "source": [
    "val_steps = (300000 - 200001 - lookback) // batch_size   # 查看整个验证集需要从val_gen中抽取几次\n",
    "test_steps = (len(float_data) - 300001 - lookback) // batch_size   # 查看整个测试集需要从test_gen中抽取几次\n",
    "print(val_steps)\n",
    "print(test_steps)"
   ]
  },
  {
   "cell_type": "markdown",
   "metadata": {},
   "source": [
    "### 6.3.3   一种基于常识的、非机器学习的基准方法"
   ]
  },
  {
   "cell_type": "markdown",
   "metadata": {},
   "source": [
    "##### 6-35   计算符合常识的基准方法的MAE"
   ]
  },
  {
   "cell_type": "code",
   "execution_count": 67,
   "metadata": {},
   "outputs": [],
   "source": [
    "def evaluate_naive_method():\n",
    "    batch_maes = []\n",
    "    for step in range(val_steps):\n",
    "        samples, targets = next(val_gen)\n",
    "        preds = samples[:, -1, 1]\n",
    "        mae = np.mean(np.abs(preds - targets)) \n",
    "        batch_maes.append(mae)\n",
    "    return np.mean(batch_maes)   # 与书上有出入，需要设置返回值以便后续计算"
   ]
  },
  {
   "cell_type": "code",
   "execution_count": 68,
   "metadata": {},
   "outputs": [
    {
     "data": {
      "text/plain": [
       "0.2897359729905486"
      ]
     },
     "execution_count": 68,
     "metadata": {},
     "output_type": "execute_result"
    }
   ],
   "source": [
    "std_mae = evaluate_naive_method()\n",
    "std_mae"
   ]
  },
  {
   "cell_type": "code",
   "execution_count": 69,
   "metadata": {},
   "outputs": [
    {
     "data": {
      "text/plain": [
       "2.564887434980494"
      ]
     },
     "execution_count": 69,
     "metadata": {},
     "output_type": "execute_result"
    }
   ],
   "source": [
    "celsius_mae = std_mae * std[1]\n",
    "celsius_mae"
   ]
  },
  {
   "cell_type": "markdown",
   "metadata": {},
   "source": [
    "### 6.3.4   一种基本的机器学习技法"
   ]
  },
  {
   "cell_type": "markdown",
   "metadata": {},
   "source": [
    "##### 6-37   训练并评估一个密集连接模型"
   ]
  },
  {
   "cell_type": "code",
   "execution_count": 72,
   "metadata": {},
   "outputs": [],
   "source": [
    "from keras.optimizers import RMSprop"
   ]
  },
  {
   "cell_type": "code",
   "execution_count": 73,
   "metadata": {},
   "outputs": [],
   "source": [
    "model = Sequential()\n",
    "model.add(Flatten(input_shape = (lookback//step, float_data.shape[-1])))\n",
    "model.add(Dense(32, activation = 'relu'))\n",
    "model.add(Dense(1))\n",
    "model.compile(optimizer = RMSprop(), loss = 'mae')"
   ]
  },
  {
   "cell_type": "code",
   "execution_count": 75,
   "metadata": {},
   "outputs": [
    {
     "name": "stdout",
     "output_type": "stream",
     "text": [
      "Epoch 1/20\n",
      "500/500 [==============================] - 11s 22ms/step - loss: 2.2270 - val_loss: 0.5318\n",
      "Epoch 2/20\n",
      "500/500 [==============================] - 10s 20ms/step - loss: 0.4925 - val_loss: 0.3166\n",
      "Epoch 3/20\n",
      "500/500 [==============================] - 10s 20ms/step - loss: 0.3021 - val_loss: 0.3069\n",
      "Epoch 4/20\n",
      "500/500 [==============================] - 10s 20ms/step - loss: 0.2692 - val_loss: 0.3040\n",
      "Epoch 5/20\n",
      "500/500 [==============================] - 10s 20ms/step - loss: 0.2573 - val_loss: 0.3297\n",
      "Epoch 6/20\n",
      "500/500 [==============================] - 10s 20ms/step - loss: 0.2460 - val_loss: 0.3220\n",
      "Epoch 7/20\n",
      "500/500 [==============================] - 10s 20ms/step - loss: 0.2375 - val_loss: 0.3111\n",
      "Epoch 8/20\n",
      "500/500 [==============================] - 10s 20ms/step - loss: 0.2350 - val_loss: 0.3492\n",
      "Epoch 9/20\n",
      "500/500 [==============================] - 10s 20ms/step - loss: 0.2288 - val_loss: 0.3244\n",
      "Epoch 10/20\n",
      "500/500 [==============================] - 10s 20ms/step - loss: 0.2221 - val_loss: 0.3170\n",
      "Epoch 11/20\n",
      "500/500 [==============================] - 10s 20ms/step - loss: 0.2200 - val_loss: 0.3429\n",
      "Epoch 12/20\n",
      "500/500 [==============================] - 10s 20ms/step - loss: 0.2173 - val_loss: 0.3321\n",
      "Epoch 13/20\n",
      "500/500 [==============================] - 10s 20ms/step - loss: 0.2160 - val_loss: 0.3226\n",
      "Epoch 14/20\n",
      "500/500 [==============================] - 10s 20ms/step - loss: 0.2124 - val_loss: 0.3413\n",
      "Epoch 15/20\n",
      "500/500 [==============================] - 10s 20ms/step - loss: 0.2098 - val_loss: 0.3239\n",
      "Epoch 16/20\n",
      "500/500 [==============================] - 10s 20ms/step - loss: 0.2061 - val_loss: 0.3529\n",
      "Epoch 17/20\n",
      "500/500 [==============================] - 11s 22ms/step - loss: 0.2067 - val_loss: 0.3332\n",
      "Epoch 18/20\n",
      "500/500 [==============================] - 10s 20ms/step - loss: 0.2049 - val_loss: 0.3364\n",
      "Epoch 19/20\n",
      "500/500 [==============================] - 10s 20ms/step - loss: 0.2014 - val_loss: 0.3282\n",
      "Epoch 20/20\n",
      "500/500 [==============================] - 10s 20ms/step - loss: 0.2009 - val_loss: 0.3420\n"
     ]
    }
   ],
   "source": [
    "history = model.fit_generator(train_gen, steps_per_epoch = 500, epochs = 20, validation_data = val_gen, \n",
    "                              validation_steps = val_steps)"
   ]
  },
  {
   "cell_type": "markdown",
   "metadata": {},
   "source": [
    "##### 6-38   绘制结果"
   ]
  },
  {
   "cell_type": "code",
   "execution_count": 77,
   "metadata": {},
   "outputs": [],
   "source": [
    "loss = history.history['loss']\n",
    "val_loss = history.history['val_loss']\n",
    "epochs = range(1, len(loss)+1)"
   ]
  },
  {
   "cell_type": "code",
   "execution_count": 79,
   "metadata": {},
   "outputs": [
    {
     "data": {
      "image/png": "[encoded data removed]",
      "text/plain": [
       "<Figure size 432x288 with 1 Axes>"
      ]
     },
     "metadata": {
      "needs_background": "light"
     },
     "output_type": "display_data"
    }
   ],
   "source": [
    "plt.figure()\n",
    "plt.plot(epochs, loss, 'bo', label = 'Training loss')\n",
    "plt.plot(epochs, val_loss, 'b', label = 'Validation loss')\n",
    "plt.title('Training and validation loss')\n",
    "plt.legend()\n",
    "plt.show()"
   ]
  },
  {
   "cell_type": "markdown",
   "metadata": {},
   "source": [
    "### 6.3.5   第一个循环网络基准"
   ]
  },
  {
   "cell_type": "markdown",
   "metadata": {},
   "source": [
    "##### 6-39   训练并评估一个基于GRU的模型"
   ]
  },
  {
   "cell_type": "code",
   "execution_count": 80,
   "metadata": {},
   "outputs": [
    {
     "name": "stdout",
     "output_type": "stream",
     "text": [
      "Epoch 1/20\n",
      "500/500 [==============================] - 60s 115ms/step - loss: 0.3205 - val_loss: 0.2703\n",
      "Epoch 2/20\n",
      "500/500 [==============================] - 56s 112ms/step - loss: 0.2869 - val_loss: 0.2764\n",
      "Epoch 3/20\n",
      "500/500 [==============================] - 54s 108ms/step - loss: 0.2805 - val_loss: 0.2761\n",
      "Epoch 4/20\n",
      "500/500 [==============================] - 54s 108ms/step - loss: 0.2761 - val_loss: 0.2643\n",
      "Epoch 5/20\n",
      "500/500 [==============================] - 55s 111ms/step - loss: 0.2726 - val_loss: 0.2620\n",
      "Epoch 6/20\n",
      "500/500 [==============================] - 56s 113ms/step - loss: 0.2663 - val_loss: 0.2643\n",
      "Epoch 7/20\n",
      "500/500 [==============================] - 56s 112ms/step - loss: 0.2615 - val_loss: 0.2680\n",
      "Epoch 8/20\n",
      "500/500 [==============================] - 57s 113ms/step - loss: 0.2587 - val_loss: 0.2752\n",
      "Epoch 9/20\n",
      "500/500 [==============================] - 55s 111ms/step - loss: 0.2552 - val_loss: 0.2852\n",
      "Epoch 10/20\n",
      "500/500 [==============================] - 57s 113ms/step - loss: 0.2491 - val_loss: 0.2740\n",
      "Epoch 11/20\n",
      "500/500 [==============================] - 55s 110ms/step - loss: 0.2457 - val_loss: 0.2748\n",
      "Epoch 12/20\n",
      "500/500 [==============================] - 56s 113ms/step - loss: 0.2410 - val_loss: 0.2791\n",
      "Epoch 13/20\n",
      "500/500 [==============================] - 57s 113ms/step - loss: 0.2360 - val_loss: 0.2801\n",
      "Epoch 14/20\n",
      "500/500 [==============================] - 56s 112ms/step - loss: 0.2333 - val_loss: 0.2885\n",
      "Epoch 15/20\n",
      "500/500 [==============================] - 57s 114ms/step - loss: 0.2285 - val_loss: 0.2852\n",
      "Epoch 16/20\n",
      "500/500 [==============================] - 59s 118ms/step - loss: 0.2234 - val_loss: 0.2906\n",
      "Epoch 17/20\n",
      "500/500 [==============================] - 63s 126ms/step - loss: 0.2200 - val_loss: 0.2943\n",
      "Epoch 18/20\n",
      "500/500 [==============================] - 61s 122ms/step - loss: 0.2155 - val_loss: 0.2947\n",
      "Epoch 19/20\n",
      "500/500 [==============================] - 63s 125ms/step - loss: 0.2138 - val_loss: 0.2956\n",
      "Epoch 20/20\n",
      "500/500 [==============================] - 62s 124ms/step - loss: 0.2107 - val_loss: 0.3003\n"
     ]
    }
   ],
   "source": [
    "from keras.layers import GRU\n",
    "model = Sequential()\n",
    "model.add(GRU(32, input_shape = (None, float_data.shape[-1])))\n",
    "model.add(Dense(1))\n",
    "model.compile(optimizer = RMSprop(), loss = 'mae')\n",
    "history = model.fit_generator(train_gen, steps_per_epoch = 500, epochs = 20, validation_data = val_gen, \n",
    "                              validation_steps = val_steps)"
   ]
  },
  {
   "cell_type": "code",
   "execution_count": 81,
   "metadata": {},
   "outputs": [],
   "source": [
    "loss = history.history['loss']\n",
    "val_loss = history.history['val_loss']\n",
    "epochs = range(1, len(loss)+1)"
   ]
  },
  {
   "cell_type": "code",
   "execution_count": 82,
   "metadata": {},
   "outputs": [
    {
     "data": {
      "image/png": "[encoded data removed]",
      "text/plain": [
       "<Figure size 432x288 with 1 Axes>"
      ]
     },
     "metadata": {
      "needs_background": "light"
     },
     "output_type": "display_data"
    }
   ],
   "source": [
    "plt.figure()\n",
    "plt.plot(epochs, loss, 'bo', label = 'Training loss')\n",
    "plt.plot(epochs, val_loss, 'b', label = 'Validation loss')\n",
    "plt.title('Training and validation loss')\n",
    "plt.legend()\n",
    "plt.show()"
   ]
  },
  {
   "cell_type": "markdown",
   "metadata": {},
   "source": [
    "### 6.3.6   使用循环dropout来降低过拟合"
   ]
  },
  {
   "cell_type": "markdown",
   "metadata": {},
   "source": [
    "##### 6-40   训练并评估一个使用dropout正则化的基于`GRU`的模型"
   ]
  },
  {
   "cell_type": "code",
   "execution_count": null,
   "metadata": {},
   "outputs": [],
   "source": [
    "model = Sequential()\n",
    "model.add(GRU(32, dropout = 0.2, recurrent_dropout = 0.2, input_shape = (None, float_data.shape[-1])))\n",
    "model.add(Dense(1))\n",
    "model.compile(optimizer = RMSprop(), loss = 'mae')\n",
    "history = model.fit_generator(train_gen, steps_per_epoch = 500, epochs = 40, validation_data = val_gen, \n",
    "                              validation_steps = val_steps)"
   ]
  },
  {
   "cell_type": "markdown",
   "metadata": {},
   "source": [
    "### 6.3.7   循环层堆叠"
   ]
  },
  {
   "cell_type": "markdown",
   "metadata": {},
   "source": [
    "##### 6-41   训练并评估一个使用dropout正则化的堆叠`GRU`的模型"
   ]
  },
  {
   "cell_type": "code",
   "execution_count": null,
   "metadata": {},
   "outputs": [],
   "source": [
    "model = Sequential()\n",
    "model.add(GRU(32, dropout = 0.1, recurrent_dropout = 0.5, return_sequence = True, \n",
    "              input_shape = (None, float_data.shape[-1])))\n",
    "model.add(GRU(64, activation = 'relu', dropout = 0.1, recurrent_dropout = 0.5))\n",
    "model.add(Dense(1))\n",
    "model.compile(optimizer = RMSprop(), loss = 'mae')\n",
    "history = model.fit_generator(train_gen, steps_per_epoch = 500, epochs = 40, validation_data = val_gen, \n",
    "                              validation_steps = val_steps)"
   ]
  },
  {
   "cell_type": "markdown",
   "metadata": {},
   "source": [
    "### 6.3.8   使用双向RNN"
   ]
  },
  {
   "cell_type": "markdown",
   "metadata": {},
   "source": [
    "##### 6-42   使用逆序序列训练并评估一个`LSTM`"
   ]
  },
  {
   "cell_type": "code",
   "execution_count": 84,
   "metadata": {},
   "outputs": [],
   "source": [
    "max_features = 10000\n",
    "maxlen = 500"
   ]
  },
  {
   "cell_type": "code",
   "execution_count": 85,
   "metadata": {},
   "outputs": [],
   "source": [
    "(x_train, y_train), (x_test, y_test) = imdb.load_data(num_words = max_features)\n",
    "x_train = [x[::-1] for x in x_train]   # 将序列反转\n",
    "x_test = [x[::-1] for x in x_test]\n",
    "x_train = preprocessing.sequence.pad_sequences(x_train, maxlen = maxlen)\n",
    "x_test = preprocessing.sequence.pad_sequences(x_test, maxlen = maxlen)"
   ]
  },
  {
   "cell_type": "code",
   "execution_count": 86,
   "metadata": {},
   "outputs": [
    {
     "name": "stdout",
     "output_type": "stream",
     "text": [
      "Epoch 1/10\n",
      "157/157 [==============================] - 55s 336ms/step - loss: 0.5876 - acc: 0.6746 - val_loss: 0.3894 - val_acc: 0.8382\n",
      "Epoch 2/10\n",
      "157/157 [==============================] - 56s 357ms/step - loss: 0.3113 - acc: 0.8797 - val_loss: 0.3228 - val_acc: 0.8778\n",
      "Epoch 3/10\n",
      "157/157 [==============================] - 55s 349ms/step - loss: 0.2479 - acc: 0.9110 - val_loss: 0.3713 - val_acc: 0.8504\n",
      "Epoch 4/10\n",
      "157/157 [==============================] - 54s 346ms/step - loss: 0.2148 - acc: 0.9229 - val_loss: 0.4195 - val_acc: 0.8278\n",
      "Epoch 5/10\n",
      "157/157 [==============================] - 54s 343ms/step - loss: 0.1710 - acc: 0.9430 - val_loss: 0.4323 - val_acc: 0.8384\n",
      "Epoch 6/10\n",
      "157/157 [==============================] - 58s 366ms/step - loss: 0.1632 - acc: 0.9396 - val_loss: 0.3337 - val_acc: 0.8816\n",
      "Epoch 7/10\n",
      "157/157 [==============================] - 58s 366ms/step - loss: 0.1356 - acc: 0.9546 - val_loss: 0.4043 - val_acc: 0.8778\n",
      "Epoch 8/10\n",
      "157/157 [==============================] - 56s 359ms/step - loss: 0.1258 - acc: 0.9589 - val_loss: 0.4400 - val_acc: 0.8718\n",
      "Epoch 9/10\n",
      "157/157 [==============================] - 55s 350ms/step - loss: 0.1203 - acc: 0.9630 - val_loss: 0.4399 - val_acc: 0.8600\n",
      "Epoch 10/10\n",
      "157/157 [==============================] - 54s 344ms/step - loss: 0.1141 - acc: 0.9650 - val_loss: 0.4056 - val_acc: 0.8750\n"
     ]
    }
   ],
   "source": [
    "model = Sequential()\n",
    "model.add(Embedding(max_features, 128))\n",
    "model.add(LSTM(32))\n",
    "model.add(Dense(1, activation = 'sigmoid'))\n",
    "model.compile(optimizer = 'rmsprop', loss = 'binary_crossentropy', metrics = ['acc'])\n",
    "history = model.fit(x_train, y_train, epochs = 10, batch_size = 128, validation_split = 0.2)"
   ]
  },
  {
   "cell_type": "code",
   "execution_count": 87,
   "metadata": {},
   "outputs": [],
   "source": [
    "loss = history.history['loss']\n",
    "val_loss = history.history['val_loss']\n",
    "epochs = range(1, len(loss)+1)"
   ]
  },
  {
   "cell_type": "code",
   "execution_count": 88,
   "metadata": {},
   "outputs": [
    {
     "data": {
      "image/png": "[encoded data removed]",
      "text/plain": [
       "<Figure size 432x288 with 1 Axes>"
      ]
     },
     "metadata": {
      "needs_background": "light"
     },
     "output_type": "display_data"
    }
   ],
   "source": [
    "plt.figure()\n",
    "plt.plot(epochs, loss, 'bo', label = 'Training loss')\n",
    "plt.plot(epochs, val_loss, 'b', label = 'Validation loss')\n",
    "plt.title('Training and validation loss')\n",
    "plt.legend()\n",
    "plt.show()"
   ]
  },
  {
   "cell_type": "markdown",
   "metadata": {},
   "source": [
    "##### 6-43   训练并评估一个双向`LSTM`"
   ]
  },
  {
   "cell_type": "code",
   "execution_count": 89,
   "metadata": {},
   "outputs": [
    {
     "name": "stdout",
     "output_type": "stream",
     "text": [
      "Epoch 1/10\n",
      "157/157 [==============================] - 51s 303ms/step - loss: 0.6561 - acc: 0.5969 - val_loss: 0.4547 - val_acc: 0.8008\n",
      "Epoch 2/10\n",
      "157/157 [==============================] - 49s 313ms/step - loss: 0.4176 - acc: 0.8328 - val_loss: 0.3265 - val_acc: 0.8706\n",
      "Epoch 3/10\n",
      "157/157 [==============================] - 49s 312ms/step - loss: 0.3010 - acc: 0.8872 - val_loss: 0.3143 - val_acc: 0.8818\n",
      "Epoch 4/10\n",
      "157/157 [==============================] - 46s 291ms/step - loss: 0.2589 - acc: 0.9052 - val_loss: 0.5661 - val_acc: 0.7666\n",
      "Epoch 5/10\n",
      "157/157 [==============================] - 46s 292ms/step - loss: 0.2207 - acc: 0.9209 - val_loss: 0.3245 - val_acc: 0.8850\n",
      "Epoch 6/10\n",
      "157/157 [==============================] - 46s 294ms/step - loss: 0.1956 - acc: 0.9343 - val_loss: 0.3615 - val_acc: 0.8398\n",
      "Epoch 7/10\n",
      "157/157 [==============================] - 45s 287ms/step - loss: 0.1665 - acc: 0.9408 - val_loss: 0.3685 - val_acc: 0.8684\n",
      "Epoch 8/10\n",
      "157/157 [==============================] - 58s 368ms/step - loss: 0.1426 - acc: 0.9507 - val_loss: 0.3521 - val_acc: 0.8532\n",
      "Epoch 9/10\n",
      "157/157 [==============================] - 53s 338ms/step - loss: 0.1389 - acc: 0.9514 - val_loss: 0.4124 - val_acc: 0.8726\n",
      "Epoch 10/10\n",
      "157/157 [==============================] - 54s 341ms/step - loss: 0.1350 - acc: 0.9561 - val_loss: 0.4787 - val_acc: 0.8664\n"
     ]
    }
   ],
   "source": [
    "from keras.layers import Bidirectional\n",
    "model = Sequential()\n",
    "model.add(Embedding(max_features, 32))\n",
    "model.add(Bidirectional(LSTM(32)))\n",
    "model.add(Dense(1, activation = 'sigmoid'))\n",
    "model.compile(optimizer = 'rmsprop', loss = 'binary_crossentropy', metrics = ['acc'])\n",
    "history = model.fit(x_train, y_train, epochs = 10, batch_size = 128, validation_split = 0.2)"
   ]
  },
  {
   "cell_type": "code",
   "execution_count": 90,
   "metadata": {},
   "outputs": [],
   "source": [
    "loss = history.history['loss']\n",
    "val_loss = history.history['val_loss']\n",
    "epochs = range(1, len(loss)+1)"
   ]
  },
  {
   "cell_type": "code",
   "execution_count": 91,
   "metadata": {},
   "outputs": [
    {
     "data": {
      "image/png": "[encoded data removed]",
      "text/plain": [
       "<Figure size 432x288 with 1 Axes>"
      ]
     },
     "metadata": {
      "needs_background": "light"
     },
     "output_type": "display_data"
    }
   ],
   "source": [
    "plt.figure()\n",
    "plt.plot(epochs, loss, 'bo', label = 'Training loss')\n",
    "plt.plot(epochs, val_loss, 'b', label = 'Validation loss')\n",
    "plt.title('Training and validation loss')\n",
    "plt.legend()\n",
    "plt.show()"
   ]
  },
  {
   "cell_type": "markdown",
   "metadata": {},
   "source": [
    "##### 6-44 训练一个双向`GRU`"
   ]
  },
  {
   "cell_type": "code",
   "execution_count": null,
   "metadata": {},
   "outputs": [],
   "source": [
    "model = Sequential()\n",
    "model.add(Bidirectional(GRU(32), input_shape = (None, float_data.shape[-1])))\n",
    "model.add(Dense(1))\n",
    "model.compile(optimizer = RMSprop(), loss = 'mae')\n",
    "history = model.fit(train_gen, steps_per_epoch = 500, epochs = 40, validation_data = val_gen, \n",
    "                    validation_steps = val_steps)"
   ]
  },
  {
   "cell_type": "markdown",
   "metadata": {},
   "source": [
    "## 6.4   用卷积神经网络处理序列"
   ]
  },
  {
   "cell_type": "markdown",
   "metadata": {},
   "source": [
    "### 6.4.3   实现一维卷积神经网络"
   ]
  },
  {
   "cell_type": "markdown",
   "metadata": {},
   "source": [
    "##### 6-45   准备IMDB数据"
   ]
  },
  {
   "cell_type": "code",
   "execution_count": 92,
   "metadata": {},
   "outputs": [],
   "source": [
    "max_features = 10000\n",
    "max_len = 500\n",
    "(x_train, y_train), (x_test, y_test) = imdb.load_data(num_words = max_features)\n",
    "x_train = preprocessing.sequence.pad_sequences(x_train, maxlen = max_len)\n",
    "x_test = preprocessing.sequence.pad_sequences(x_test, maxlen = max_len)"
   ]
  },
  {
   "cell_type": "markdown",
   "metadata": {},
   "source": [
    "##### 6-46   在IMDB数据上训练并评估一个简单的一维卷积神经网络"
   ]
  },
  {
   "cell_type": "code",
   "execution_count": 93,
   "metadata": {},
   "outputs": [
    {
     "name": "stdout",
     "output_type": "stream",
     "text": [
      "Model: \"sequential_9\"\n",
      "_________________________________________________________________\n",
      "Layer (type)                 Output Shape              Param #   \n",
      "=================================================================\n",
      "embedding_7 (Embedding)      (None, 500, 128)          1280000   \n",
      "_________________________________________________________________\n",
      "conv1d (Conv1D)              (None, 494, 32)           28704     \n",
      "_________________________________________________________________\n",
      "max_pooling1d (MaxPooling1D) (None, 98, 32)            0         \n",
      "_________________________________________________________________\n",
      "conv1d_1 (Conv1D)            (None, 92, 32)            7200      \n",
      "_________________________________________________________________\n",
      "global_max_pooling1d (Global (None, 32)                0         \n",
      "_________________________________________________________________\n",
      "dense_12 (Dense)             (None, 1)                 33        \n",
      "=================================================================\n",
      "Total params: 1,315,937\n",
      "Trainable params: 1,315,937\n",
      "Non-trainable params: 0\n",
      "_________________________________________________________________\n"
     ]
    }
   ],
   "source": [
    "from keras.layers import Conv1D, MaxPooling1D, GlobalMaxPooling1D\n",
    "model = Sequential()\n",
    "model.add(Embedding(max_features, 128, input_length = max_len))\n",
    "model.add(Conv1D(32, 7, activation = 'relu'))\n",
    "model.add(MaxPooling1D(5))\n",
    "model.add(Conv1D(32, 7, activation = 'relu'))\n",
    "model.add(GlobalMaxPooling1D())\n",
    "model.add(Dense(1))\n",
    "model.summary()"
   ]
  },
  {
   "cell_type": "code",
   "execution_count": 94,
   "metadata": {},
   "outputs": [
    {
     "name": "stdout",
     "output_type": "stream",
     "text": [
      "Epoch 1/10\n",
      "157/157 [==============================] - 30s 187ms/step - loss: 0.8715 - acc: 0.5032 - val_loss: 0.6885 - val_acc: 0.5316\n",
      "Epoch 2/10\n",
      "157/157 [==============================] - 27s 171ms/step - loss: 0.6757 - acc: 0.6268 - val_loss: 0.6739 - val_acc: 0.6004\n",
      "Epoch 3/10\n",
      "157/157 [==============================] - 27s 175ms/step - loss: 0.6474 - acc: 0.7109 - val_loss: 0.6379 - val_acc: 0.7068\n",
      "Epoch 4/10\n",
      "157/157 [==============================] - 26s 166ms/step - loss: 0.5936 - acc: 0.7841 - val_loss: 0.5496 - val_acc: 0.7606\n",
      "Epoch 5/10\n",
      "157/157 [==============================] - 29s 183ms/step - loss: 0.4808 - acc: 0.8269 - val_loss: 0.4556 - val_acc: 0.8162\n",
      "Epoch 6/10\n",
      "157/157 [==============================] - 29s 186ms/step - loss: 0.3709 - acc: 0.8595 - val_loss: 0.4230 - val_acc: 0.8436\n",
      "Epoch 7/10\n",
      "157/157 [==============================] - 27s 173ms/step - loss: 0.3144 - acc: 0.8838 - val_loss: 0.4028 - val_acc: 0.8568\n",
      "Epoch 8/10\n",
      "157/157 [==============================] - 26s 167ms/step - loss: 0.2722 - acc: 0.8989 - val_loss: 0.4122 - val_acc: 0.8632\n",
      "Epoch 9/10\n",
      "157/157 [==============================] - 30s 189ms/step - loss: 0.2584 - acc: 0.9095 - val_loss: 0.4432 - val_acc: 0.8674\n",
      "Epoch 10/10\n",
      "157/157 [==============================] - 27s 170ms/step - loss: 0.2297 - acc: 0.9212 - val_loss: 0.4541 - val_acc: 0.8718\n"
     ]
    }
   ],
   "source": [
    "model.compile(optimizer = RMSprop(lr=1e-4), loss = 'binary_crossentropy', metrics = ['acc'])\n",
    "history = model.fit(x_train, y_train, epochs = 10, batch_size = 128, validation_split = 0.2)"
   ]
  },
  {
   "cell_type": "code",
   "execution_count": 95,
   "metadata": {},
   "outputs": [],
   "source": [
    "loss = history.history['loss']\n",
    "val_loss = history.history['val_loss']\n",
    "acc = history.history['acc']\n",
    "val_acc = history.history['val_acc']\n",
    "epochs = range(1, len(loss)+1)"
   ]
  },
  {
   "cell_type": "code",
   "execution_count": 96,
   "metadata": {},
   "outputs": [
    {
     "data": {
      "image/png": "[encoded data removed]",
      "text/plain": [
       "<Figure size 432x288 with 1 Axes>"
      ]
     },
     "metadata": {
      "needs_background": "light"
     },
     "output_type": "display_data"
    },
    {
     "data": {
      "image/png": "[encoded data removed]",
      "text/plain": [
       "<Figure size 432x288 with 1 Axes>"
      ]
     },
     "metadata": {
      "needs_background": "light"
     },
     "output_type": "display_data"
    }
   ],
   "source": [
    "plt.plot(epochs, acc, 'bo', label = 'Training acc')\n",
    "plt.plot(epochs, val_acc, 'b', label = 'Validation acc')\n",
    "plt.title('Training and validation accuracy')\n",
    "plt.legend()\n",
    "plt.figure()\n",
    "plt.plot(epochs, loss, 'bo', label = 'Training loss')\n",
    "plt.plot(epochs, val_loss, 'b', label = 'Validation loss')\n",
    "plt.title('Training and validation loss')\n",
    "plt.legend()\n",
    "plt.show()"
   ]
  },
  {
   "cell_type": "markdown",
   "metadata": {},
   "source": [
    "### 6.4.4   结合CNN和RNN来处理长序列"
   ]
  },
  {
   "cell_type": "markdown",
   "metadata": {},
   "source": [
    "##### 6-47   在耶拿数据上训练并评估一个简单的一维卷积神经网络"
   ]
  },
  {
   "cell_type": "code",
   "execution_count": 97,
   "metadata": {},
   "outputs": [
    {
     "name": "stdout",
     "output_type": "stream",
     "text": [
      "Epoch 1/20\n",
      "500/500 [==============================] - 22s 41ms/step - loss: 0.4496 - val_loss: 0.4467\n",
      "Epoch 2/20\n",
      "500/500 [==============================] - 20s 41ms/step - loss: 0.3629 - val_loss: 0.4397\n",
      "Epoch 3/20\n",
      "500/500 [==============================] - 21s 42ms/step - loss: 0.3339 - val_loss: 0.4314\n",
      "Epoch 4/20\n",
      "500/500 [==============================] - 22s 45ms/step - loss: 0.3156 - val_loss: 0.4331\n",
      "Epoch 5/20\n",
      "500/500 [==============================] - 23s 45ms/step - loss: 0.3028 - val_loss: 0.4483\n",
      "Epoch 6/20\n",
      "500/500 [==============================] - 22s 44ms/step - loss: 0.2932 - val_loss: 0.4448\n",
      "Epoch 7/20\n",
      "500/500 [==============================] - 22s 45ms/step - loss: 0.2843 - val_loss: 0.4649\n",
      "Epoch 8/20\n",
      "500/500 [==============================] - 24s 47ms/step - loss: 0.2766 - val_loss: 0.4360\n",
      "Epoch 9/20\n",
      "500/500 [==============================] - 22s 45ms/step - loss: 0.2709 - val_loss: 0.4351\n",
      "Epoch 10/20\n",
      "500/500 [==============================] - 22s 45ms/step - loss: 0.2677 - val_loss: 0.4542\n",
      "Epoch 11/20\n",
      "500/500 [==============================] - 21s 42ms/step - loss: 0.2619 - val_loss: 0.4383\n",
      "Epoch 12/20\n",
      "500/500 [==============================] - 21s 41ms/step - loss: 0.2582 - val_loss: 0.4761\n",
      "Epoch 13/20\n",
      "500/500 [==============================] - 20s 40ms/step - loss: 0.2529 - val_loss: 0.4441\n",
      "Epoch 14/20\n",
      "500/500 [==============================] - 20s 41ms/step - loss: 0.2524 - val_loss: 0.4573\n",
      "Epoch 15/20\n",
      "500/500 [==============================] - 20s 41ms/step - loss: 0.2506 - val_loss: 0.4547\n",
      "Epoch 16/20\n",
      "500/500 [==============================] - 22s 43ms/step - loss: 0.2463 - val_loss: 0.4358\n",
      "Epoch 17/20\n",
      "500/500 [==============================] - 22s 44ms/step - loss: 0.2433 - val_loss: 0.4514\n",
      "Epoch 18/20\n",
      "500/500 [==============================] - 21s 42ms/step - loss: 0.2387 - val_loss: 0.4387\n",
      "Epoch 19/20\n",
      "500/500 [==============================] - 19s 38ms/step - loss: 0.2371 - val_loss: 0.4523\n",
      "Epoch 20/20\n",
      "500/500 [==============================] - 20s 41ms/step - loss: 0.2388 - val_loss: 0.4480\n"
     ]
    }
   ],
   "source": [
    "model = Sequential()\n",
    "model.add(Conv1D(32, 5, activation = 'relu', input_shape = (None, float_data.shape[-1])))\n",
    "model.add(MaxPooling1D(3))\n",
    "model.add(Conv1D(32, 5, activation = 'relu'))\n",
    "model.add(MaxPooling1D(3))\n",
    "model.add(Conv1D(32, 5, activation = 'relu'))\n",
    "model.add(GlobalMaxPooling1D())\n",
    "model.add(Dense(1))\n",
    "model.compile(optimizer = RMSprop(), loss = 'mae')\n",
    "history = model.fit(train_gen, steps_per_epoch = 500, epochs = 20, validation_data = val_gen, \n",
    "                    validation_steps = val_steps)"
   ]
  },
  {
   "cell_type": "code",
   "execution_count": 98,
   "metadata": {},
   "outputs": [],
   "source": [
    "loss = history.history['loss']\n",
    "val_loss = history.history['val_loss']\n",
    "epochs = range(1, len(loss)+1)"
   ]
  },
  {
   "cell_type": "code",
   "execution_count": 99,
   "metadata": {},
   "outputs": [
    {
     "data": {
      "image/png": "[encoded data removed]",
      "text/plain": [
       "<Figure size 432x288 with 1 Axes>"
      ]
     },
     "metadata": {
      "needs_background": "light"
     },
     "output_type": "display_data"
    }
   ],
   "source": [
    "plt.figure()\n",
    "plt.plot(epochs, loss, 'bo', label = 'Training loss')\n",
    "plt.plot(epochs, val_loss, 'b', label = 'Validation loss')\n",
    "plt.title('Training and validation loss')\n",
    "plt.legend()\n",
    "plt.show()"
   ]
  },
  {
   "cell_type": "markdown",
   "metadata": {},
   "source": [
    "##### 6-48   为耶拿数据准备更高分辨率的数据生成器"
   ]
  },
  {
   "cell_type": "code",
   "execution_count": 100,
   "metadata": {},
   "outputs": [],
   "source": [
    "step = 3\n",
    "lookback = 720\n",
    "delay = 144"
   ]
  },
  {
   "cell_type": "code",
   "execution_count": 101,
   "metadata": {},
   "outputs": [],
   "source": [
    "train_gen = generator(float_data, lookback = lookback, delay = delay, min_index = 0, max_index = 200000, \n",
    "                      shuffle = True, step = step, batch_size = batch_size)\n",
    "val_gen = generator(float_data, lookback = lookback, delay = delay, min_index = 200001, max_index = 300000, \n",
    "                      step = step, batch_size = batch_size)\n",
    "test_gen = generator(float_data, lookback = lookback, delay = delay, min_index = 300001, max_index = None, \n",
    "                      step = step, batch_size = batch_size)"
   ]
  },
  {
   "cell_type": "code",
   "execution_count": 102,
   "metadata": {},
   "outputs": [
    {
     "name": "stdout",
     "output_type": "stream",
     "text": [
      "775\n",
      "935\n"
     ]
    }
   ],
   "source": [
    "val_steps = (300000 - 200001 - lookback) // batch_size   # 查看整个验证集需要从val_gen中抽取几次\n",
    "test_steps = (len(float_data) - 300001 - lookback) // batch_size   # 查看整个测试集需要从test_gen中抽取几次\n",
    "print(val_steps)\n",
    "print(test_steps)"
   ]
  },
  {
   "cell_type": "markdown",
   "metadata": {},
   "source": [
    "##### 6-49   结合一维卷积基和`GRU`层的模型"
   ]
  },
  {
   "cell_type": "code",
   "execution_count": 103,
   "metadata": {},
   "outputs": [
    {
     "name": "stdout",
     "output_type": "stream",
     "text": [
      "Model: \"sequential_11\"\n",
      "_________________________________________________________________\n",
      "Layer (type)                 Output Shape              Param #   \n",
      "=================================================================\n",
      "conv1d_5 (Conv1D)            (None, None, 32)          2272      \n",
      "_________________________________________________________________\n",
      "max_pooling1d_3 (MaxPooling1 (None, None, 32)          0         \n",
      "_________________________________________________________________\n",
      "conv1d_6 (Conv1D)            (None, None, 32)          5152      \n",
      "_________________________________________________________________\n",
      "gru_1 (GRU)                  (None, 32)                6336      \n",
      "_________________________________________________________________\n",
      "dense_14 (Dense)             (None, 1)                 33        \n",
      "=================================================================\n",
      "Total params: 13,793\n",
      "Trainable params: 13,793\n",
      "Non-trainable params: 0\n",
      "_________________________________________________________________\n"
     ]
    }
   ],
   "source": [
    "model = Sequential()\n",
    "model.add(Conv1D(32, 5, activation = 'relu', input_shape = (None, float_data.shape[-1])))\n",
    "model.add(MaxPooling1D(3))\n",
    "model.add(Conv1D(32, 5, activation = 'relu'))\n",
    "model.add(GRU(32, dropout = 0.1, recurrent_dropout = 0.5))\n",
    "model.add(Dense(1))\n",
    "model.summary()"
   ]
  },
  {
   "cell_type": "code",
   "execution_count": 104,
   "metadata": {},
   "outputs": [
    {
     "name": "stdout",
     "output_type": "stream",
     "text": [
      "Epoch 1/20\n",
      "500/500 [==============================] - 49s 88ms/step - loss: 0.3605 - val_loss: 0.3099\n",
      "Epoch 2/20\n",
      "500/500 [==============================] - 41s 82ms/step - loss: 0.2998 - val_loss: 0.2828\n",
      "Epoch 3/20\n",
      "500/500 [==============================] - 45s 90ms/step - loss: 0.2874 - val_loss: 0.2825\n",
      "Epoch 4/20\n",
      "500/500 [==============================] - 46s 92ms/step - loss: 0.2779 - val_loss: 0.2762\n",
      "Epoch 5/20\n",
      "500/500 [==============================] - 51s 102ms/step - loss: 0.2699 - val_loss: 0.2764\n",
      "Epoch 6/20\n",
      "500/500 [==============================] - 42s 84ms/step - loss: 0.2629 - val_loss: 0.2765\n",
      "Epoch 7/20\n",
      "500/500 [==============================] - 40s 80ms/step - loss: 0.2587 - val_loss: 0.2801\n",
      "Epoch 8/20\n",
      "500/500 [==============================] - 41s 81ms/step - loss: 0.2512 - val_loss: 0.2996\n",
      "Epoch 9/20\n",
      "500/500 [==============================] - 43s 86ms/step - loss: 0.2446 - val_loss: 0.2928\n",
      "Epoch 10/20\n",
      "500/500 [==============================] - 47s 95ms/step - loss: 0.2393 - val_loss: 0.2892\n",
      "Epoch 11/20\n",
      "500/500 [==============================] - 42s 84ms/step - loss: 0.2367 - val_loss: 0.3000\n",
      "Epoch 12/20\n",
      "500/500 [==============================] - 43s 86ms/step - loss: 0.2306 - val_loss: 0.2957\n",
      "Epoch 13/20\n",
      "500/500 [==============================] - 48s 96ms/step - loss: 0.2300 - val_loss: 0.2947\n",
      "Epoch 14/20\n",
      "500/500 [==============================] - 43s 85ms/step - loss: 0.2248 - val_loss: 0.3013\n",
      "Epoch 15/20\n",
      "500/500 [==============================] - 42s 84ms/step - loss: 0.2216 - val_loss: 0.3043\n",
      "Epoch 16/20\n",
      "500/500 [==============================] - 41s 83ms/step - loss: 0.2164 - val_loss: 0.3057\n",
      "Epoch 17/20\n",
      "500/500 [==============================] - 41s 83ms/step - loss: 0.2131 - val_loss: 0.3037\n",
      "Epoch 18/20\n",
      "500/500 [==============================] - 42s 84ms/step - loss: 0.2101 - val_loss: 0.3107\n",
      "Epoch 19/20\n",
      "500/500 [==============================] - 42s 84ms/step - loss: 0.2107 - val_loss: 0.3118\n",
      "Epoch 20/20\n",
      "500/500 [==============================] - 42s 85ms/step - loss: 0.2053 - val_loss: 0.3090\n"
     ]
    }
   ],
   "source": [
    "model.compile(optimizer = RMSprop(), loss = 'mae')\n",
    "history = model.fit_generator(train_gen, steps_per_epoch = 500, epochs = 20, validation_data = val_gen, \n",
    "                             validation_steps = val_steps)"
   ]
  },
  {
   "cell_type": "code",
   "execution_count": 105,
   "metadata": {},
   "outputs": [],
   "source": [
    "loss = history.history['loss']\n",
    "val_loss = history.history['val_loss']\n",
    "epochs = range(1, len(loss)+1)"
   ]
  },
  {
   "cell_type": "code",
   "execution_count": 106,
   "metadata": {},
   "outputs": [
    {
     "data": {
      "image/png": "[encoded data removed]",
      "text/plain": [
       "<Figure size 432x288 with 1 Axes>"
      ]
     },
     "metadata": {
      "needs_background": "light"
     },
     "output_type": "display_data"
    }
   ],
   "source": [
    "plt.figure()\n",
    "plt.plot(epochs, loss, 'bo', label = 'Training loss')\n",
    "plt.plot(epochs, val_loss, 'b', label = 'Validation loss')\n",
    "plt.title('Training and validation loss')\n",
    "plt.legend()\n",
    "plt.show()"
   ]
  },
  {
   "cell_type": "code",
   "execution_count": null,
   "metadata": {},
   "outputs": [],
   "source": []
  }
 ],
 "metadata": {
  "kernelspec": {
   "display_name": "Python 3",
   "language": "python",
   "name": "python3"
  },
  "language_info": {
   "codemirror_mode": {
    "name": "ipython",
    "version": 3
   },
   "file_extension": ".py",
   "mimetype": "text/x-python",
   "name": "python",
   "nbconvert_exporter": "python",
   "pygments_lexer": "ipython3",
   "version": "3.7.4"
  }
 },
 "nbformat": 4,
 "nbformat_minor": 4
}
